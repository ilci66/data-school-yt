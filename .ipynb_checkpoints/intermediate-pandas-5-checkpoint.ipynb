{
 "cells": [
  {
   "cell_type": "code",
   "execution_count": 1,
   "id": "1a78cdaa",
   "metadata": {},
   "outputs": [],
   "source": [
    "import pandas as pd"
   ]
  },
  {
   "cell_type": "code",
   "execution_count": 2,
   "id": "9667463f",
   "metadata": {},
   "outputs": [],
   "source": [
    "import matplotlib.pyplot as plt"
   ]
  },
  {
   "cell_type": "code",
   "execution_count": 3,
   "id": "727dda46",
   "metadata": {},
   "outputs": [],
   "source": [
    "ri = pd.read_csv('C:/users/samsung/desktop/data-files/data-school-files/police.csv')"
   ]
  },
  {
   "cell_type": "markdown",
   "id": "1385bff1",
   "metadata": {},
   "source": [
    "***Note:***Pandas calculations ignore missing values"
   ]
  },
  {
   "cell_type": "markdown",
   "id": "97f1315a",
   "metadata": {},
   "source": [
    "## During a search how often is a driver frisked?"
   ]
  },
  {
   "cell_type": "code",
   "execution_count": 6,
   "id": "7b1d50c5",
   "metadata": {},
   "outputs": [
    {
     "data": {
      "text/plain": [
       "0        NaN\n",
       "1        NaN\n",
       "2        NaN\n",
       "3        NaN\n",
       "4        NaN\n",
       "        ... \n",
       "91736    NaN\n",
       "91737    NaN\n",
       "91738    NaN\n",
       "91739    NaN\n",
       "91740    NaN\n",
       "Name: search_type, Length: 91741, dtype: object"
      ]
     },
     "execution_count": 6,
     "metadata": {},
     "output_type": "execute_result"
    }
   ],
   "source": [
    "ri.search_type.str.contains('Protective Frisk') # this loops and goes through all the elements"
   ]
  },
  {
   "cell_type": "code",
   "execution_count": 7,
   "id": "61085437",
   "metadata": {},
   "outputs": [],
   "source": [
    "# Making a new column out of it\n",
    "\n",
    "ri[\"frisk\"] = ri.search_type.str.contains('Protective Frisk')"
   ]
  },
  {
   "cell_type": "code",
   "execution_count": 8,
   "id": "3dd2bc37",
   "metadata": {},
   "outputs": [
    {
     "data": {
      "text/plain": [
       "False    2922\n",
       "True      274\n",
       "Name: frisk, dtype: int64"
      ]
     },
     "execution_count": 8,
     "metadata": {},
     "output_type": "execute_result"
    }
   ],
   "source": [
    "ri.frisk.value_counts()"
   ]
  },
  {
   "cell_type": "code",
   "execution_count": 9,
   "id": "f8de21c4",
   "metadata": {},
   "outputs": [
    {
     "data": {
      "text/plain": [
       "NaN      88545\n",
       "False     2922\n",
       "True       274\n",
       "Name: frisk, dtype: int64"
      ]
     },
     "execution_count": 9,
     "metadata": {},
     "output_type": "execute_result"
    }
   ],
   "source": [
    "ri.frisk.value_counts(dropna=False)"
   ]
  },
  {
   "cell_type": "code",
   "execution_count": 10,
   "id": "38424e5d",
   "metadata": {},
   "outputs": [
    {
     "data": {
      "text/plain": [
       "274"
      ]
     },
     "execution_count": 10,
     "metadata": {},
     "output_type": "execute_result"
    }
   ],
   "source": [
    "ri.frisk.sum()"
   ]
  },
  {
   "cell_type": "code",
   "execution_count": 11,
   "id": "a4585664",
   "metadata": {},
   "outputs": [
    {
     "data": {
      "text/plain": [
       "0.08573216520650813"
      ]
     },
     "execution_count": 11,
     "metadata": {},
     "output_type": "execute_result"
    }
   ],
   "source": [
    "ri.frisk.mean()"
   ]
  },
  {
   "cell_type": "markdown",
   "id": "bfe4c291",
   "metadata": {},
   "source": [
    "***Note:*** Even th mean method ignored NaNs"
   ]
  },
  {
   "cell_type": "code",
   "execution_count": null,
   "id": "3481c465",
   "metadata": {},
   "outputs": [],
   "source": []
  }
 ],
 "metadata": {
  "kernelspec": {
   "display_name": "Python 3 (ipykernel)",
   "language": "python",
   "name": "python3"
  },
  "language_info": {
   "codemirror_mode": {
    "name": "ipython",
    "version": 3
   },
   "file_extension": ".py",
   "mimetype": "text/x-python",
   "name": "python",
   "nbconvert_exporter": "python",
   "pygments_lexer": "ipython3",
   "version": "3.7.3"
  }
 },
 "nbformat": 4,
 "nbformat_minor": 5
}
