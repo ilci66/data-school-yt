{
 "cells": [
  {
   "cell_type": "code",
   "execution_count": 1,
   "id": "bce15bf7",
   "metadata": {},
   "outputs": [],
   "source": [
    "import pandas as pd"
   ]
  },
  {
   "cell_type": "code",
   "execution_count": 2,
   "id": "2db933e4",
   "metadata": {},
   "outputs": [],
   "source": [
    "import matplotlib.pyplot as plt"
   ]
  },
  {
   "cell_type": "code",
   "execution_count": 4,
   "id": "a3fc47cb",
   "metadata": {},
   "outputs": [],
   "source": [
    "ri = pd.read_csv('C:/users/samsung/desktop/data-files/data-school-files/police.csv')"
   ]
  },
  {
   "cell_type": "markdown",
   "id": "bfb66644",
   "metadata": {},
   "source": [
    "## Which year had the least number of stops? "
   ]
  },
  {
   "cell_type": "code",
   "execution_count": 5,
   "id": "85bbfd53",
   "metadata": {},
   "outputs": [
    {
     "data": {
      "text/plain": [
       "2012    10970\n",
       "2006    10639\n",
       "2007     9476\n",
       "2014     9228\n",
       "2008     8752\n",
       "2015     8599\n",
       "2011     8126\n",
       "2013     7924\n",
       "2009     7908\n",
       "2010     7561\n",
       "2005     2558\n",
       "Name: stop_date, dtype: int64"
      ]
     },
     "execution_count": 5,
     "metadata": {},
     "output_type": "execute_result"
    }
   ],
   "source": [
    "# With the slice method The year can be sliced and chosen for value_counts()\n",
    "\n",
    "ri.stop_date.str.slice(0, 4).value_counts()"
   ]
  },
  {
   "cell_type": "code",
   "execution_count": 6,
   "id": "d49e0d5b",
   "metadata": {},
   "outputs": [],
   "source": [
    "# cat is short for concatenate, using a string method two concatenate these two series together\n",
    "\n",
    "combined = ri.stop_date.str.cat(ri.stop_time, sep=' ')"
   ]
  },
  {
   "cell_type": "code",
   "execution_count": 7,
   "id": "cce9face",
   "metadata": {},
   "outputs": [
    {
     "data": {
      "text/plain": [
       "0        2005-01-02 01:55\n",
       "1        2005-01-18 08:15\n",
       "2        2005-01-23 23:15\n",
       "3        2005-02-20 17:15\n",
       "4        2005-03-14 10:00\n",
       "               ...       \n",
       "91736    2015-12-31 20:27\n",
       "91737    2015-12-31 20:35\n",
       "91738    2015-12-31 20:45\n",
       "91739    2015-12-31 21:42\n",
       "91740    2015-12-31 22:46\n",
       "Name: stop_date, Length: 91741, dtype: object"
      ]
     },
     "execution_count": 7,
     "metadata": {},
     "output_type": "execute_result"
    }
   ],
   "source": [
    "# Now you can see that it's a pandas series, has the date and the time in the same column\n",
    "\n",
    "combined"
   ]
  },
  {
   "cell_type": "code",
   "execution_count": 9,
   "id": "483f7069",
   "metadata": {},
   "outputs": [],
   "source": [
    "# Now taking that string and converting it into the datetime data type\n",
    "# Also storing it in a new column \n",
    "\n",
    "ri[\"stop_datetime\"] = pd.to_datetime(combined)"
   ]
  },
  {
   "cell_type": "code",
   "execution_count": 10,
   "id": "9eacf787",
   "metadata": {},
   "outputs": [
    {
     "data": {
      "text/plain": [
       "stop_date                     object\n",
       "stop_time                     object\n",
       "county_name                  float64\n",
       "driver_gender                 object\n",
       "driver_age_raw               float64\n",
       "driver_age                   float64\n",
       "driver_race                   object\n",
       "violation_raw                 object\n",
       "violation                     object\n",
       "search_conducted                bool\n",
       "search_type                   object\n",
       "stop_outcome                  object\n",
       "is_arrested                   object\n",
       "stop_duration                 object\n",
       "drugs_related_stop              bool\n",
       "stop_datetime         datetime64[ns]\n",
       "dtype: object"
      ]
     },
     "execution_count": 10,
     "metadata": {},
     "output_type": "execute_result"
    }
   ],
   "source": [
    "ri.dtypes"
   ]
  },
  {
   "cell_type": "code",
   "execution_count": 11,
   "id": "6c7c6b29",
   "metadata": {},
   "outputs": [
    {
     "data": {
      "text/plain": [
       "0        2005\n",
       "1        2005\n",
       "2        2005\n",
       "3        2005\n",
       "4        2005\n",
       "         ... \n",
       "91736    2015\n",
       "91737    2015\n",
       "91738    2015\n",
       "91739    2015\n",
       "91740    2015\n",
       "Name: stop_datetime, Length: 91741, dtype: int64"
      ]
     },
     "execution_count": 11,
     "metadata": {},
     "output_type": "execute_result"
    }
   ],
   "source": [
    "# Now the datetime methods can be used on this datetime type value\n",
    "# ri.stop_datetime.dt.weekday ==> as an example\n",
    "\n",
    "ri.stop_datetime.dt.year"
   ]
  },
  {
   "cell_type": "code",
   "execution_count": 12,
   "id": "535df6d7",
   "metadata": {},
   "outputs": [
    {
     "data": {
      "text/plain": [
       "2012    10970\n",
       "2006    10639\n",
       "2007     9476\n",
       "2014     9228\n",
       "2008     8752\n",
       "2015     8599\n",
       "2011     8126\n",
       "2013     7924\n",
       "2009     7908\n",
       "2010     7561\n",
       "2005     2558\n",
       "Name: stop_datetime, dtype: int64"
      ]
     },
     "execution_count": 12,
     "metadata": {},
     "output_type": "execute_result"
    }
   ],
   "source": [
    "ri.stop_datetime.dt.year.value_counts()"
   ]
  },
  {
   "cell_type": "code",
   "execution_count": 13,
   "id": "133e8a36",
   "metadata": {},
   "outputs": [
    {
     "data": {
      "text/html": [
       "<div>\n",
       "<style scoped>\n",
       "    .dataframe tbody tr th:only-of-type {\n",
       "        vertical-align: middle;\n",
       "    }\n",
       "\n",
       "    .dataframe tbody tr th {\n",
       "        vertical-align: top;\n",
       "    }\n",
       "\n",
       "    .dataframe thead th {\n",
       "        text-align: right;\n",
       "    }\n",
       "</style>\n",
       "<table border=\"1\" class=\"dataframe\">\n",
       "  <thead>\n",
       "    <tr style=\"text-align: right;\">\n",
       "      <th></th>\n",
       "      <th>stop_date</th>\n",
       "      <th>stop_time</th>\n",
       "      <th>county_name</th>\n",
       "      <th>driver_gender</th>\n",
       "      <th>driver_age_raw</th>\n",
       "      <th>driver_age</th>\n",
       "      <th>driver_race</th>\n",
       "      <th>violation_raw</th>\n",
       "      <th>violation</th>\n",
       "      <th>search_conducted</th>\n",
       "      <th>search_type</th>\n",
       "      <th>stop_outcome</th>\n",
       "      <th>is_arrested</th>\n",
       "      <th>stop_duration</th>\n",
       "      <th>drugs_related_stop</th>\n",
       "      <th>stop_datetime</th>\n",
       "    </tr>\n",
       "  </thead>\n",
       "  <tbody>\n",
       "    <tr>\n",
       "      <th>0</th>\n",
       "      <td>2005-01-02</td>\n",
       "      <td>01:55</td>\n",
       "      <td>NaN</td>\n",
       "      <td>M</td>\n",
       "      <td>1985.0</td>\n",
       "      <td>20.0</td>\n",
       "      <td>White</td>\n",
       "      <td>Speeding</td>\n",
       "      <td>Speeding</td>\n",
       "      <td>False</td>\n",
       "      <td>NaN</td>\n",
       "      <td>Citation</td>\n",
       "      <td>False</td>\n",
       "      <td>0-15 Min</td>\n",
       "      <td>False</td>\n",
       "      <td>2005-01-02 01:55:00</td>\n",
       "    </tr>\n",
       "    <tr>\n",
       "      <th>1</th>\n",
       "      <td>2005-01-18</td>\n",
       "      <td>08:15</td>\n",
       "      <td>NaN</td>\n",
       "      <td>M</td>\n",
       "      <td>1965.0</td>\n",
       "      <td>40.0</td>\n",
       "      <td>White</td>\n",
       "      <td>Speeding</td>\n",
       "      <td>Speeding</td>\n",
       "      <td>False</td>\n",
       "      <td>NaN</td>\n",
       "      <td>Citation</td>\n",
       "      <td>False</td>\n",
       "      <td>0-15 Min</td>\n",
       "      <td>False</td>\n",
       "      <td>2005-01-18 08:15:00</td>\n",
       "    </tr>\n",
       "    <tr>\n",
       "      <th>2</th>\n",
       "      <td>2005-01-23</td>\n",
       "      <td>23:15</td>\n",
       "      <td>NaN</td>\n",
       "      <td>M</td>\n",
       "      <td>1972.0</td>\n",
       "      <td>33.0</td>\n",
       "      <td>White</td>\n",
       "      <td>Speeding</td>\n",
       "      <td>Speeding</td>\n",
       "      <td>False</td>\n",
       "      <td>NaN</td>\n",
       "      <td>Citation</td>\n",
       "      <td>False</td>\n",
       "      <td>0-15 Min</td>\n",
       "      <td>False</td>\n",
       "      <td>2005-01-23 23:15:00</td>\n",
       "    </tr>\n",
       "    <tr>\n",
       "      <th>3</th>\n",
       "      <td>2005-02-20</td>\n",
       "      <td>17:15</td>\n",
       "      <td>NaN</td>\n",
       "      <td>M</td>\n",
       "      <td>1986.0</td>\n",
       "      <td>19.0</td>\n",
       "      <td>White</td>\n",
       "      <td>Call for Service</td>\n",
       "      <td>Other</td>\n",
       "      <td>False</td>\n",
       "      <td>NaN</td>\n",
       "      <td>Arrest Driver</td>\n",
       "      <td>True</td>\n",
       "      <td>16-30 Min</td>\n",
       "      <td>False</td>\n",
       "      <td>2005-02-20 17:15:00</td>\n",
       "    </tr>\n",
       "    <tr>\n",
       "      <th>4</th>\n",
       "      <td>2005-03-14</td>\n",
       "      <td>10:00</td>\n",
       "      <td>NaN</td>\n",
       "      <td>F</td>\n",
       "      <td>1984.0</td>\n",
       "      <td>21.0</td>\n",
       "      <td>White</td>\n",
       "      <td>Speeding</td>\n",
       "      <td>Speeding</td>\n",
       "      <td>False</td>\n",
       "      <td>NaN</td>\n",
       "      <td>Citation</td>\n",
       "      <td>False</td>\n",
       "      <td>0-15 Min</td>\n",
       "      <td>False</td>\n",
       "      <td>2005-03-14 10:00:00</td>\n",
       "    </tr>\n",
       "  </tbody>\n",
       "</table>\n",
       "</div>"
      ],
      "text/plain": [
       "    stop_date stop_time  county_name driver_gender  driver_age_raw  \\\n",
       "0  2005-01-02     01:55          NaN             M          1985.0   \n",
       "1  2005-01-18     08:15          NaN             M          1965.0   \n",
       "2  2005-01-23     23:15          NaN             M          1972.0   \n",
       "3  2005-02-20     17:15          NaN             M          1986.0   \n",
       "4  2005-03-14     10:00          NaN             F          1984.0   \n",
       "\n",
       "   driver_age driver_race     violation_raw violation  search_conducted  \\\n",
       "0        20.0       White          Speeding  Speeding             False   \n",
       "1        40.0       White          Speeding  Speeding             False   \n",
       "2        33.0       White          Speeding  Speeding             False   \n",
       "3        19.0       White  Call for Service     Other             False   \n",
       "4        21.0       White          Speeding  Speeding             False   \n",
       "\n",
       "  search_type   stop_outcome is_arrested stop_duration  drugs_related_stop  \\\n",
       "0         NaN       Citation       False      0-15 Min               False   \n",
       "1         NaN       Citation       False      0-15 Min               False   \n",
       "2         NaN       Citation       False      0-15 Min               False   \n",
       "3         NaN  Arrest Driver        True     16-30 Min               False   \n",
       "4         NaN       Citation       False      0-15 Min               False   \n",
       "\n",
       "        stop_datetime  \n",
       "0 2005-01-02 01:55:00  \n",
       "1 2005-01-18 08:15:00  \n",
       "2 2005-01-23 23:15:00  \n",
       "3 2005-02-20 17:15:00  \n",
       "4 2005-03-14 10:00:00  "
      ]
     },
     "execution_count": 13,
     "metadata": {},
     "output_type": "execute_result"
    }
   ],
   "source": [
    "ri.head()"
   ]
  },
  {
   "cell_type": "markdown",
   "id": "dc86e3b3",
   "metadata": {},
   "source": [
    "## How does drug activity change by time of day?\n",
    "\n",
    "### stop_datetime, drugs_related_stop"
   ]
  },
  {
   "cell_type": "code",
   "execution_count": 15,
   "id": "8792aecc",
   "metadata": {},
   "outputs": [
    {
     "data": {
      "text/plain": [
       "dtype('bool')"
      ]
     },
     "execution_count": 15,
     "metadata": {},
     "output_type": "execute_result"
    }
   ],
   "source": [
    "ri.drugs_related_stop.dtype"
   ]
  },
  {
   "cell_type": "code",
   "execution_count": 16,
   "id": "debba6a6",
   "metadata": {},
   "outputs": [
    {
     "data": {
      "text/plain": [
       "0.008883705213590434"
      ]
     },
     "execution_count": 16,
     "metadata": {},
     "output_type": "execute_result"
    }
   ],
   "source": [
    "ri.drugs_related_stop.mean() # percentage of times it's true"
   ]
  },
  {
   "cell_type": "markdown",
   "id": "d024fb22",
   "metadata": {},
   "source": [
    "Think of the question as what each hour what is the reate of drug related stops"
   ]
  },
  {
   "cell_type": "code",
   "execution_count": 17,
   "id": "359b7540",
   "metadata": {},
   "outputs": [
    {
     "data": {
      "text/plain": [
       "stop_datetime\n",
       "0     0.019728\n",
       "1     0.013507\n",
       "2     0.015462\n",
       "3     0.017065\n",
       "4     0.011811\n",
       "5     0.004762\n",
       "6     0.003040\n",
       "7     0.003281\n",
       "8     0.002687\n",
       "9     0.006288\n",
       "10    0.005714\n",
       "11    0.006976\n",
       "12    0.004467\n",
       "13    0.010326\n",
       "14    0.007810\n",
       "15    0.006416\n",
       "16    0.005723\n",
       "17    0.005517\n",
       "18    0.010148\n",
       "19    0.011596\n",
       "20    0.008084\n",
       "21    0.013342\n",
       "22    0.013533\n",
       "23    0.016344\n",
       "Name: drugs_related_stop, dtype: float64"
      ]
     },
     "execution_count": 17,
     "metadata": {},
     "output_type": "execute_result"
    }
   ],
   "source": [
    "# So I need the hourly data of drug related stops\n",
    "\n",
    "ri.groupby(ri.stop_datetime.dt.hour).drugs_related_stop.mean()"
   ]
  },
  {
   "cell_type": "code",
   "execution_count": 18,
   "id": "2166b6ba",
   "metadata": {},
   "outputs": [
    {
     "data": {
      "text/plain": [
       "<AxesSubplot:xlabel='stop_datetime'>"
      ]
     },
     "execution_count": 18,
     "metadata": {},
     "output_type": "execute_result"
    },
    {
     "data": {
      "image/png": "[encoded data removed]",
      "text/plain": [
       "<Figure size 432x288 with 1 Axes>"
      ]
     },
     "metadata": {
      "needs_background": "light"
     },
     "output_type": "display_data"
    }
   ],
   "source": [
    "# Plotting is very simple, just added plot() at the end\n",
    "\n",
    "# ri.groupby(ri.stop_datetime.dt.time).drugs_related_stop.mean().plot() this one's also possible but looks kinda weird\n",
    "\n",
    "ri.groupby(ri.stop_datetime.dt.hour).drugs_related_stop.mean().plot()"
   ]
  },
  {
   "cell_type": "markdown",
   "id": "dc6e0f6b",
   "metadata": {},
   "source": [
    "## Do most stops occur at night?"
   ]
  },
  {
   "cell_type": "code",
   "execution_count": 19,
   "id": "348a8e9e",
   "metadata": {},
   "outputs": [
    {
     "data": {
      "text/plain": [
       "10    7350\n",
       "9     6838\n",
       "11    5877\n",
       "14    5634\n",
       "23    5629\n",
       "0     5221\n",
       "8     5210\n",
       "13    4842\n",
       "15    4832\n",
       "7     4572\n",
       "1     4442\n",
       "16    3844\n",
       "12    3582\n",
       "22    3473\n",
       "20    3340\n",
       "6     3290\n",
       "2     2975\n",
       "17    2900\n",
       "19    2587\n",
       "18    2168\n",
       "21    1499\n",
       "3     1172\n",
       "4      254\n",
       "5      210\n",
       "Name: stop_datetime, dtype: int64"
      ]
     },
     "execution_count": 19,
     "metadata": {},
     "output_type": "execute_result"
    }
   ],
   "source": [
    "ri.stop_datetime.dt.hour.value_counts() # at 10 most stops occur"
   ]
  },
  {
   "cell_type": "code",
   "execution_count": 20,
   "id": "ff5440c3",
   "metadata": {},
   "outputs": [
    {
     "data": {
      "text/plain": [
       "<AxesSubplot:>"
      ]
     },
     "execution_count": 20,
     "metadata": {},
     "output_type": "execute_result"
    },
    {
     "data": {
      "image/png": "[encoded data removed]",
      "text/plain": [
       "<Figure size 432x288 with 1 Axes>"
      ]
     },
     "metadata": {
      "needs_background": "light"
     },
     "output_type": "display_data"
    }
   ],
   "source": [
    "ri.stop_datetime.dt.hour.value_counts().plot() # plot looks weird because it's not sorted according to time"
   ]
  },
  {
   "cell_type": "code",
   "execution_count": 21,
   "id": "c648de2e",
   "metadata": {},
   "outputs": [
    {
     "data": {
      "text/plain": [
       "0     5221\n",
       "1     4442\n",
       "2     2975\n",
       "3     1172\n",
       "4      254\n",
       "5      210\n",
       "6     3290\n",
       "7     4572\n",
       "8     5210\n",
       "9     6838\n",
       "10    7350\n",
       "11    5877\n",
       "12    3582\n",
       "13    4842\n",
       "14    5634\n",
       "15    4832\n",
       "16    3844\n",
       "17    2900\n",
       "18    2168\n",
       "19    2587\n",
       "20    3340\n",
       "21    1499\n",
       "22    3473\n",
       "23    5629\n",
       "Name: stop_datetime, dtype: int64"
      ]
     },
     "execution_count": 21,
     "metadata": {},
     "output_type": "execute_result"
    }
   ],
   "source": [
    "ri.stop_datetime.dt.hour.value_counts().sort_index() #sorted the index"
   ]
  },
  {
   "cell_type": "code",
   "execution_count": 22,
   "id": "d8a72572",
   "metadata": {},
   "outputs": [
    {
     "data": {
      "text/plain": [
       "<AxesSubplot:>"
      ]
     },
     "execution_count": 22,
     "metadata": {},
     "output_type": "execute_result"
    },
    {
     "data": {
      "image/png": "[encoded data removed]",
      "text/plain": [
       "<Figure size 432x288 with 1 Axes>"
      ]
     },
     "metadata": {
      "needs_background": "light"
     },
     "output_type": "display_data"
    }
   ],
   "source": [
    "ri.stop_datetime.dt.hour.value_counts().sort_index().plot()"
   ]
  },
  {
   "cell_type": "markdown",
   "id": "b96001a2",
   "metadata": {},
   "source": [
    "## Find the bad data in the stop_duration column and fix it"
   ]
  },
  {
   "cell_type": "code",
   "execution_count": 23,
   "id": "5232d7f4",
   "metadata": {},
   "outputs": [
    {
     "data": {
      "text/plain": [
       "0-15 Min     69543\n",
       "16-30 Min    13635\n",
       "NaN           5333\n",
       "30+ Min       3228\n",
       "2                1\n",
       "1                1\n",
       "Name: stop_duration, dtype: int64"
      ]
     },
     "execution_count": 23,
     "metadata": {},
     "output_type": "execute_result"
    }
   ],
   "source": [
    "ri.stop_duration.value_counts(dropna=False)"
   ]
  },
  {
   "cell_type": "markdown",
   "id": "61ceac77",
   "metadata": {},
   "source": [
    "2 and 1 are the bad data abviously, I'm not sure what they meant when they put 1 and 2 there, is it hours or minutes? I have no idea so I should turn them into NaNs"
   ]
  },
  {
   "cell_type": "code",
   "execution_count": 25,
   "id": "6cf60562",
   "metadata": {},
   "outputs": [
    {
     "data": {
      "text/plain": [
       "dtype('O')"
      ]
     },
     "execution_count": 25,
     "metadata": {},
     "output_type": "execute_result"
    }
   ],
   "source": [
    "ri.stop_duration.dtype"
   ]
  },
  {
   "cell_type": "markdown",
   "id": "477c65ab",
   "metadata": {},
   "source": [
    "So the datatype is an object, therefore string"
   ]
  },
  {
   "cell_type": "markdown",
   "id": "31fbd316",
   "metadata": {},
   "source": [
    "I need to use loc method. In order to use it I need to give the method both the column and the row"
   ]
  },
  {
   "cell_type": "code",
   "execution_count": 26,
   "id": "f95f18b3",
   "metadata": {},
   "outputs": [],
   "source": [
    "ri.loc[(ri.stop_duration == '1') | (ri.stop_duration == '2'), 'stop_duration'] = 'NaN'"
   ]
  },
  {
   "cell_type": "code",
   "execution_count": 27,
   "id": "4abc1541",
   "metadata": {},
   "outputs": [
    {
     "data": {
      "text/plain": [
       "0-15 Min     69543\n",
       "16-30 Min    13635\n",
       "NaN           5333\n",
       "30+ Min       3228\n",
       "NaN              2\n",
       "Name: stop_duration, dtype: int64"
      ]
     },
     "execution_count": 27,
     "metadata": {},
     "output_type": "execute_result"
    }
   ],
   "source": [
    "ri.stop_duration.value_counts(dropna=False)"
   ]
  },
  {
   "cell_type": "markdown",
   "id": "cb1a79a7",
   "metadata": {},
   "source": [
    "They didn't appear as NaNs really but they got the value of 'NaN' string, not the data type I wanted to get. I'm gonna need to use numpy to set it as a missing value, therefore as NaNs. I'm gonna have to turn the string NaNs into numpy type NaNs"
   ]
  },
  {
   "cell_type": "code",
   "execution_count": 28,
   "id": "5ded7a3d",
   "metadata": {},
   "outputs": [],
   "source": [
    "import numpy as np"
   ]
  },
  {
   "cell_type": "code",
   "execution_count": 29,
   "id": "8b9ce1c1",
   "metadata": {},
   "outputs": [],
   "source": [
    "ri.loc[ri.stop_duration == 'NaN', 'stop_duration'] = np.nan"
   ]
  },
  {
   "cell_type": "code",
   "execution_count": 30,
   "id": "608d07d4",
   "metadata": {},
   "outputs": [
    {
     "data": {
      "text/plain": [
       "0-15 Min     69543\n",
       "16-30 Min    13635\n",
       "NaN           5335\n",
       "30+ Min       3228\n",
       "Name: stop_duration, dtype: int64"
      ]
     },
     "execution_count": 30,
     "metadata": {},
     "output_type": "execute_result"
    }
   ],
   "source": [
    "ri.stop_duration.value_counts(dropna=False)"
   ]
  }
 ],
 "metadata": {
  "kernelspec": {
   "display_name": "Python 3 (ipykernel)",
   "language": "python",
   "name": "python3"
  },
  "language_info": {
   "codemirror_mode": {
    "name": "ipython",
    "version": 3
   },
   "file_extension": ".py",
   "mimetype": "text/x-python",
   "name": "python",
   "nbconvert_exporter": "python",
   "pygments_lexer": "ipython3",
   "version": "3.7.3"
  }
 },
 "nbformat": 4,
 "nbformat_minor": 5
}
