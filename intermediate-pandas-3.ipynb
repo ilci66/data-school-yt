{
 "cells": [
  {
   "cell_type": "code",
   "execution_count": 1,
   "id": "b65a8a6d",
   "metadata": {},
   "outputs": [],
   "source": [
    "import pandas as pd"
   ]
  },
  {
   "cell_type": "code",
   "execution_count": 2,
   "id": "75c7467a",
   "metadata": {},
   "outputs": [],
   "source": [
    "import matplotlib.pyplot as plt"
   ]
  },
  {
   "cell_type": "code",
   "execution_count": 3,
   "id": "fb4564c4",
   "metadata": {},
   "outputs": [],
   "source": [
    "ri = pd.read_csv('C:/users/samsung/desktop/data-files/data-school-files/police.csv')"
   ]
  },
  {
   "cell_type": "markdown",
   "id": "0ab7760f",
   "metadata": {},
   "source": [
    "# Does gender affect who gets searched during a stop?"
   ]
  },
  {
   "cell_type": "markdown",
   "id": "93da749d",
   "metadata": {},
   "source": [
    "### driver_gender, search_conducted"
   ]
  },
  {
   "cell_type": "code",
   "execution_count": 4,
   "id": "89466f05",
   "metadata": {},
   "outputs": [
    {
     "data": {
      "text/plain": [
       "False    0.965163\n",
       "True     0.034837\n",
       "Name: search_conducted, dtype: float64"
      ]
     },
     "execution_count": 4,
     "metadata": {},
     "output_type": "execute_result"
    }
   ],
   "source": [
    "ri.search_conducted.value_counts(normalize=True)"
   ]
  },
  {
   "cell_type": "markdown",
   "id": "aa7e3281",
   "metadata": {},
   "source": [
    "this means in 3% of the stoppings searches were conducted"
   ]
  },
  {
   "cell_type": "markdown",
   "id": "67ea6c61",
   "metadata": {},
   "source": [
    "this gives out the same value beacause true == 1 and false == 0, so it's 'sum of ones / total' "
   ]
  },
  {
   "cell_type": "code",
   "execution_count": 5,
   "id": "ccab6ba7",
   "metadata": {},
   "outputs": [
    {
     "data": {
      "text/plain": [
       "0.03483720473942948"
      ]
     },
     "execution_count": 5,
     "metadata": {},
     "output_type": "execute_result"
    }
   ],
   "source": [
    "ri.search_conducted.mean()"
   ]
  },
  {
   "cell_type": "code",
   "execution_count": 6,
   "id": "37b621f6",
   "metadata": {},
   "outputs": [
    {
     "data": {
      "text/plain": [
       "driver_gender\n",
       "F    0.020033\n",
       "M    0.043326\n",
       "Name: search_conducted, dtype: float64"
      ]
     },
     "execution_count": 6,
     "metadata": {},
     "output_type": "execute_result"
    }
   ],
   "source": [
    "# you can think of groupby as something like foreach\n",
    "\n",
    "ri.groupby('driver_gender').search_conducted.mean()"
   ]
  },
  {
   "cell_type": "markdown",
   "id": "e8bd1891",
   "metadata": {},
   "source": [
    "Now the percentages are clear but still it really doesn't answer the question because er don't know why the officers decided to conduct the searches "
   ]
  },
  {
   "cell_type": "markdown",
   "id": "b520e438",
   "metadata": {},
   "source": [
    "### Is there a corrolation between different violations and the searches, what might be the reason?"
   ]
  },
  {
   "cell_type": "code",
   "execution_count": 7,
   "id": "761eeea7",
   "metadata": {},
   "outputs": [
    {
     "data": {
      "text/plain": [
       "violation            driver_gender\n",
       "Equipment            F                0.042622\n",
       "                     M                0.070081\n",
       "Moving violation     F                0.036205\n",
       "                     M                0.059831\n",
       "Other                F                0.056522\n",
       "                     M                0.047146\n",
       "Registration/plates  F                0.066140\n",
       "                     M                0.110376\n",
       "Seat belt            F                0.012598\n",
       "                     M                0.037980\n",
       "Speeding             F                0.008720\n",
       "                     M                0.024925\n",
       "Name: search_conducted, dtype: float64"
      ]
     },
     "execution_count": 7,
     "metadata": {},
     "output_type": "execute_result"
    }
   ],
   "source": [
    "ri.groupby(['violation', 'driver_gender']).search_conducted.mean()"
   ]
  },
  {
   "cell_type": "markdown",
   "id": "1f1836ac",
   "metadata": {},
   "source": [
    "***Note:*** Causation is difficult to prove so focus should be relationships and when studying a relationship include all the relevant factors"
   ]
  },
  {
   "cell_type": "code",
   "execution_count": null,
   "id": "6dec2e63",
   "metadata": {},
   "outputs": [],
   "source": []
  }
 ],
 "metadata": {
  "kernelspec": {
   "display_name": "Python 3 (ipykernel)",
   "language": "python",
   "name": "python3"
  },
  "language_info": {
   "codemirror_mode": {
    "name": "ipython",
    "version": 3
   },
   "file_extension": ".py",
   "mimetype": "text/x-python",
   "name": "python",
   "nbconvert_exporter": "python",
   "pygments_lexer": "ipython3",
   "version": "3.7.3"
  }
 },
 "nbformat": 4,
 "nbformat_minor": 5
}
